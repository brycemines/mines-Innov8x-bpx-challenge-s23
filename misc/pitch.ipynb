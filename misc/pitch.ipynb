{
 "cells": [
  {
   "attachments": {},
   "cell_type": "markdown",
   "metadata": {
    "slideshow": {
     "slide_type": "slide"
    }
   },
   "source": [
    "# **Warriors of Innov8tion**\n",
    "\n",
    "\n",
    "\n",
    "## Mines Innov8x BPX Challenge"
   ]
  },
  {
   "attachments": {},
   "cell_type": "markdown",
   "metadata": {
    "slideshow": {
     "slide_type": "slide"
    }
   },
   "source": [
    "# **Team**\n",
    "\n",
    "-  ### Mukund Gurumurthi, Quantitative Biosciences and Engineering\n",
    "- ### Bryce Irving, Computer Science\n",
    "-  ### Uriel Porras, Mechanical Engineering\n",
    "- ### Sander Bouchard, Mechanical Engineering"
   ]
  },
  {
   "attachments": {},
   "cell_type": "markdown",
   "metadata": {
    "slideshow": {
     "slide_type": "slide"
    }
   },
   "source": [
    "# **Problem**\n",
    "-  ## Thief hatches left open\n",
    "-  ## Releases harmful chemicals to the environment\n",
    "\n",
    "# **Challenge**\n",
    "-  ## Use time series pressure data to determine probability thief hatch is open at any time."
   ]
  },
  {
   "attachments": {},
   "cell_type": "markdown",
   "metadata": {
    "slideshow": {
     "slide_type": "slide"
    }
   },
   "source": [
    "# **Solution**\n",
    "\n",
    "- ### Changepoint detection algorithm\n",
    "\n",
    "TODO get the picture showing"
   ]
  },
  {
   "attachments": {},
   "cell_type": "markdown",
   "metadata": {
    "slideshow": {
     "slide_type": "subslide"
    }
   },
   "source": [
    "![Image](../results/challenge_1/10085460.png)"
   ]
  },
  {
   "attachments": {},
   "cell_type": "markdown",
   "metadata": {
    "slideshow": {
     "slide_type": "slide"
    }
   },
   "source": [
    "# **Offline Bayesian Changepoint Detection**\n",
    "\n",
    "- ## Returns probablilities for changepoint\n",
    "- ## open source MIT liscense\n",
    "- ## reliably detects changepoints"
   ]
  },
  {
   "attachments": {},
   "cell_type": "markdown",
   "metadata": {
    "slideshow": {
     "slide_type": "slide"
    }
   },
   "source": [
    "# Implementation in Python"
   ]
  },
  {
   "cell_type": "code",
   "execution_count": 2,
   "metadata": {},
   "outputs": [],
   "source": [
    "from bayesian_changepoint_detection.priors import const_prior\n",
    "import bayesian_changepoint_detection.bayesian_models as offcd\n",
    "import bayesian_changepoint_detection.offline_likelihoods as offline_ll\n",
    "from functools import partial\n",
    "\n",
    "df = data[0][1].pressure_osi\n",
    "\n",
    "df = np.array(df).reshape(-1,1)\n",
    "prior_function = partial(const_prior, p=1/(len(df)+1))\n",
    "\n",
    "Q, P, Pcp = offcd.offline_changepoint_detection(\n",
    "    data = df, prior_function = prior_function,\n",
    "    log_likelihood_class = offline_ll.StudentT(),\n",
    "    truncate = -40\n",
    "    )\n"
   ]
  },
  {
   "attachments": {},
   "cell_type": "markdown",
   "metadata": {
    "slideshow": {
     "slide_type": "slide"
    }
   },
   "source": [
    "# Algorithm output\n",
    "TODO: fill in algorithm runtime"
   ]
  },
  {
   "attachments": {},
   "cell_type": "markdown",
   "metadata": {
    "slideshow": {
     "slide_type": "slide"
    }
   },
   "source": [
    "# References\n",
    "\n",
    "- ## Julian Liu, Thatcher Thornberry, and Ayush Rastogi from BPX\n",
    "- ## TODO cite authors of the algorithms"
   ]
  },
  {
   "attachments": {},
   "cell_type": "markdown",
   "metadata": {
    "slideshow": {
     "slide_type": "skip"
    }
   },
   "source": [
    "jupyter cheat sheet: https://www.ibm.com/docs/en/db2-event-store/2.0.0?topic=notebooks-markdown-jupyter-cheatsheet\n",
    "\n",
    "to run this slide show in vscode:\n",
    "\n",
    "to update, open a terminal:\n",
    "\n",
    "cd misc\n",
    "python -m jupyter nbconvert pitch.ipynb --to slides --post serve\n",
    "\n",
    "OR (to just view and not update)\n",
    "copy and paste full path to pitch.slides.html to google"
   ]
  }
 ],
 "metadata": {
  "kernelspec": {
   "display_name": "Python 3",
   "language": "python",
   "name": "python3"
  },
  "language_info": {
   "codemirror_mode": {
    "name": "ipython",
    "version": 3
   },
   "file_extension": ".py",
   "mimetype": "text/x-python",
   "name": "python",
   "nbconvert_exporter": "python",
   "pygments_lexer": "ipython3",
   "version": "3.11.2"
  },
  "orig_nbformat": 4
 },
 "nbformat": 4,
 "nbformat_minor": 2
}
